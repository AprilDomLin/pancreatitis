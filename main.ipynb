{
 "cells": [
  {
   "cell_type": "code",
   "execution_count": null,
   "metadata": {},
   "outputs": [],
   "source": [
    "!export LD_LIBRARY_PATH=\"/opt/conda/envs/python35-paddle120-env/lib/python3.7/site-packages/nvidia/cublas/lib:$LD_LIBRARY_PATH\""
   ]
  },
  {
   "cell_type": "code",
   "execution_count": null,
   "metadata": {},
   "outputs": [],
   "source": [
    "# This notebook is work in PADDLE AI STUDIO.\n",
    "\n",
    "import argparse\n",
    "from pathlib import Path\n",
    "import random\n",
    "\n",
    "import matplotlib.pyplot as plt\n",
    "import numpy as np\n",
    "import paddle\n",
    "import paddleclas\n",
    "import paddle.nn as nn\n",
    "import paddle.nn.functional as F\n",
    "import pandas as pd\n",
    "from PIL import Image\n",
    "\n",
    "random.seed(1234)\n",
    "np.random.seed(1234)\n",
    "paddle.seed(1234)"
   ]
  },
  {
   "cell_type": "markdown",
   "metadata": {},
   "source": [
    "# configuration"
   ]
  },
  {
   "cell_type": "code",
   "execution_count": null,
   "metadata": {},
   "outputs": [],
   "source": [
    "class config:\n",
    "    # 'The name of model in paddle'\n",
    "    model_name = 'ResNet50'\n",
    "    # model_name = 'ViT_small_patch16_224'\n",
    "    # model_name = 'ViT_base_patch16_224'\n",
    "    # model_name = 'ViT_large_patch16_224'\n",
    "\n",
    "    # The size of input image\n",
    "    img_size = 224\n",
    "\n",
    "    # The numbers to be classified\n",
    "    class_num = 2\n",
    "\n",
    "    # The epochs to train\n",
    "    epochs = 20\n",
    "\n",
    "    # The batch size for training and evaluation\n",
    "    batch_size = 32\n",
    "\n",
    "    # Learning Rate of forecast layer\n",
    "    lr_fc = 4e-4\n",
    "\n",
    "    # Learning Rate of basic layers\n",
    "    lr_bs = 5e-5\n",
    "\n",
    "\n",
    "DATAPATH_TRAIN = \"./src/train_list.csv\"\n",
    "DATAPATH_EVALUATE = \"./src/eval_list.csv\""
   ]
  },
  {
   "cell_type": "code",
   "execution_count": null,
   "metadata": {},
   "outputs": [],
   "source": []
  },
  {
   "cell_type": "markdown",
   "metadata": {},
   "source": [
    "# Model"
   ]
  },
  {
   "cell_type": "code",
   "execution_count": null,
   "metadata": {},
   "outputs": [],
   "source": [
    "class PancreatitisNet(paddle.nn.Layer):\n",
    "    def __init__(self,\n",
    "                 model_name: str,\n",
    "                 class_num: int = 2,\n",
    "                 img_size: int = 224,\n",
    "                 pretrained: bool = True,\n",
    "                 ) -> None:\n",
    "        super(PancreatitisNet, self).__init__()\n",
    "        self.model_name = model_name\n",
    "        self.class_num = class_num\n",
    "        self.img_size = img_size\n",
    "        self.pretrained = pretrained\n",
    "\n",
    "        # Initialize the model and Load pretrained paramters\n",
    "        self.base = getattr(paddleclas, model_name)(pretrained=pretrained, class_num=class_num)\n",
    "\n",
    "    def forward(self, x):\n",
    "        x = self.base(x)  # Base output from pretrained model\n",
    "        return x\n"
   ]
  },
  {
   "cell_type": "markdown",
   "metadata": {},
   "source": [
    "# DataLoader"
   ]
  },
  {
   "cell_type": "code",
   "execution_count": null,
   "metadata": {},
   "outputs": [],
   "source": [
    "class CTImage(paddle.io.Dataset):\n",
    "    def __init__(self,\n",
    "                 sample_path: str,\n",
    "                 shape: int = 224,\n",
    "                 ) -> None:\n",
    "        super(CTImage, self).__init__()\n",
    "        self.data = pd.read_csv(sample_path)[:]\n",
    "        self.shape = (shape, shape)\n",
    "\n",
    "    def __getitem__(self, idx: int) -> dict:\n",
    "        path, category = self.data.loc[idx, 'path'], self.data.loc[idx, 'cls']\n",
    "        # print(path)\n",
    "        img = paddle.vision.image_load(path).convert(\"RGB\")  # Load image as 512 * 512 * 3\n",
    "        img = img.resize(self.shape, Image.ANTIALIAS)  # Resize shape into 224 * 224 * 3\n",
    "        img = np.array(img).astype(\"float32\").transpose(2, 0, 1)  # Transpose dims as 3 * 224 * 224\n",
    "        img = img / 255.0  # Normalize\n",
    "        return dict(input=img, target=int(category), path=path)\n",
    "\n",
    "    def __len__(self) -> int:\n",
    "        return len(self.data)"
   ]
  },
  {
   "cell_type": "markdown",
   "metadata": {},
   "source": [
    "# Train & Evaluate"
   ]
  },
  {
   "cell_type": "markdown",
   "metadata": {},
   "source": [
    "## Datasets"
   ]
  },
  {
   "cell_type": "code",
   "execution_count": null,
   "metadata": {},
   "outputs": [],
   "source": [
    "dataset_train = paddle.io.DataLoader(\n",
    "    CTImage(sample_path=DATAPATH_TRAIN, shape=config.img_size),\n",
    "    batch_size=config.batch_size,\n",
    "    shuffle=True,\n",
    "    drop_last=True\n",
    ")\n",
    "\n",
    "dataset_eval = paddle.io.DataLoader(\n",
    "    CTImage(sample_path=DATAPATH_EVALUATE, shape=config.img_size),\n",
    "    batch_size=config.batch_size,\n",
    "    shuffle=True,\n",
    "    drop_last=True\n",
    ")\n"
   ]
  },
  {
   "cell_type": "markdown",
   "metadata": {},
   "source": [
    "## Initialize model and parameters"
   ]
  },
  {
   "cell_type": "code",
   "execution_count": null,
   "metadata": {},
   "outputs": [],
   "source": [
    "model = PancreatitisNet(model_name=config.model_name,\n",
    "                        class_num=2,\n",
    "                        img_size=config.img_size,\n",
    "                        pretrained=True\n",
    "                        )\n",
    "\n",
    "para = [p for p in model.base.parameters()]\n",
    "# parameters of forecast layer\n",
    "optimizer_fc = paddle.optimizer.Adam(parameters=para[:-2], learning_rate=config.lr_fc)\n",
    "\n",
    "# parameters of base layer\n",
    "optimizer_bs = paddle.optimizer.Adam(parameters=para[-2:], learning_rate=config.lr_bs)\n",
    "\n",
    "criterion = paddle.nn.CrossEntropyLoss()"
   ]
  },
  {
   "cell_type": "markdown",
   "metadata": {},
   "source": [
    "## main training & evaluation"
   ]
  },
  {
   "cell_type": "markdown",
   "metadata": {},
   "source": [
    "for epoch in range(config.epochs):\n",
    "    print('-' * 20, f'Epoch: {epoch:02d}', '-' * 20)\n",
    "    if (epoch % 2 == 0) & (epoch != 0):\n",
    "        optimizer_fc.set_lr(optimizer_fc.get_lr() * 0.90)\n",
    "    if (epoch % 2 == 0) & (epoch != 0):\n",
    "        optimizer_bs.set_lr(optimizer_bs.get_lr() * 0.75)\n",
    "\n",
    "    loss_all = 0\n",
    "    model.train()\n",
    "    for batch_id, data in enumerate(dataset_train):\n",
    "        x_data = paddle.to_tensor(data['input'], \"float32\")\n",
    "        y_data = paddle.to_tensor(data['target'], \"int64\")\n",
    "        y_pred = model(x_data)\n",
    "        loss = criterion(y_pred, y_data)\n",
    "        loss.backward()\n",
    "        optimizer_fc.minimize(loss)\n",
    "        optimizer_bs.minimize(loss)\n",
    "        loss_all += loss.item()\n",
    "        model.clear_gradients()\n",
    "    loss_all = float(loss_all) / dataset_train.__len__()\n",
    "\n",
    "    model.eval()\n",
    "    acc, f1 = [], []\n",
    "    with paddle.no_grad():\n",
    "        for batch_id, data in enumerate(dataset_eval):\n",
    "            x_data = paddle.to_tensor(data['input'], \"float32\")\n",
    "            y_pred = model(x_data)\n",
    "\n",
    "            y_data_np = np.array(data['target'])\n",
    "            y_pred_np = np.argmax(y_pred.numpy(), axis=1)\n",
    "\n",
    "            tp = np.sum((y_data_np == 1) & (y_pred_np == 1))\n",
    "            fp = np.sum((y_data_np == 0) & (y_pred_np == 1))\n",
    "            fn = np.sum((y_data_np == 1) & (y_pred_np == 0))\n",
    "            tn = np.sum((y_data_np == 0) & (y_pred_np == 0))\n",
    "\n",
    "            tmp_acc = (tp + tn) / (tp + fp + fn + tn)\n",
    "            tmp_f1 = 2 * tp / (2 * tp + fp + fn)\n",
    "            acc.append(tmp_acc)\n",
    "            f1.append(tmp_f1)\n",
    "        print(f\">>>Model Name: {config.model_name}\\t Image Size: {config.img_size}\\n\"\n",
    "              f\">>>Loss: {loss_all:.6f}\\n\"\n",
    "              f\">>>Accuracy: {np.array(acc).mean():.4f}\\n\"\n",
    "              f\">>>F1-Score: {np.array(f1).mean():.4f}\"\n",
    "              )"
   ]
  }
 ],
 "metadata": {
  "language_info": {
   "name": "python"
  }
 },
 "nbformat": 4,
 "nbformat_minor": 2
}